{
  "nbformat": 4,
  "nbformat_minor": 0,
  "metadata": {
    "colab": {
      "name": "load_kaggle_datasets_to_colab_.ipynb",
      "provenance": [],
      "collapsed_sections": []
    },
    "kernelspec": {
      "name": "python3",
      "display_name": "Python 3"
    },
    "language_info": {
      "name": "python"
    }
  },
  "cells": [
    {
      "cell_type": "code",
      "metadata": {
        "id": "QpFIYN4mYtQe"
      },
      "source": [
        "#first of all we have to download kaggle on google colab for this we run this code\n",
        "!pip install kaggle"
      ],
      "execution_count": null,
      "outputs": []
    },
    {
      "cell_type": "code",
      "metadata": {
        "id": "1Ov18zYCY_Od"
      },
      "source": [
        "#after this go to your kaggle account then account setting scroll down you will see there option that is create new api token click on this and download the file and\n",
        "# upload the file by runnning the code below\n",
        "from google.colab import files \n",
        "files.upload()"
      ],
      "execution_count": null,
      "outputs": []
    },
    {
      "cell_type": "code",
      "metadata": {
        "id": "2iVLyrHxZcUZ"
      },
      "source": [
        "#after the uploading run this cell\n",
        "!mkdir -p ~/.kaggle\n",
        "!cp kaggle.json ~/.kaggle/\n",
        "\n",
        "!chmod 600 ~/.kaggle/kaggle.json"
      ],
      "execution_count": null,
      "outputs": []
    },
    {
      "cell_type": "markdown",
      "metadata": {
        "id": "Z1xtQXczbRFt"
      },
      "source": [
        "# now go to kaagle and go to the your selected datasets page and copy the api comand as shown in the image below \n",
        "[alt text](https://drive.google.com/file/d/1GcZRTu0TY6lYSY8A2_q6IurZc1lzLQtF/view?usp=sharing)"
      ]
    },
    {
      "cell_type": "code",
      "metadata": {
        "id": "NSibSDb6ccPA"
      },
      "source": [
        "# now paste the api coomand you copy from the kaggle and just insert \"!\" in the front and paste the api command and run the cell as shown below here i use amazon dataset\n",
        "!kaggle datasets download -d snap/amazon-fine-food-reviews"
      ],
      "execution_count": null,
      "outputs": []
    },
    {
      "cell_type": "code",
      "metadata": {
        "id": "CDehZM1Hb00_"
      },
      "source": [
        "#the data you download is in zip format for extracting you can run this cell\n",
        "from zipfile import ZipFile\n",
        "file_name=\"amazon-fine-food-reviews.zip\" #name of the file you downloaded\n",
        "\n",
        "with ZipFile(file_name,'r') as zip:\n",
        "  print(\"Extracting the file {}\".format(file_name))\n",
        "  zip.extractall()\n",
        "  print(\"Done Extracting\")"
      ],
      "execution_count": null,
      "outputs": []
    },
    {
      "cell_type": "code",
      "metadata": {
        "id": "_NXVQJL8cGit"
      },
      "source": [
        "#now you can use pandas to extract the data using path\n",
        "data=pd.read_csv(path)"
      ],
      "execution_count": null,
      "outputs": []
    }
  ]
}